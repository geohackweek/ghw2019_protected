{
 "cells": [
  {
   "cell_type": "code",
   "execution_count": 22,
   "metadata": {},
   "outputs": [
    {
     "data": {
      "text/html": [
       "<iframe frameborder=\"0\" class=\"juxtapose\" width=\"992\" height=\"905\" src=\"https://cdn.knightlab.com/libs/juxtapose/latest/embed/index.html?uid=dbd2350c-d5b3-11e9-b9b8-0edaf8f81e27\"></iframe>\n"
      ],
      "text/plain": [
       "<IPython.core.display.HTML object>"
      ]
     },
     "metadata": {},
     "output_type": "display_data"
    }
   ],
   "source": [
    "%%html\n",
    "<iframe frameborder=\"0\" class=\"juxtapose\" width=\"992\" height=\"905\" src=\"https://cdn.knightlab.com/libs/juxtapose/latest/embed/index.html?uid=dbd2350c-d5b3-11e9-b9b8-0edaf8f81e27\"></iframe>"
   ]
  }
 ],
 "metadata": {
  "kernelspec": {
   "display_name": "Python 3",
   "language": "python",
   "name": "python3"
  },
  "language_info": {
   "codemirror_mode": {
    "name": "ipython",
    "version": 3
   },
   "file_extension": ".py",
   "mimetype": "text/x-python",
   "name": "python",
   "nbconvert_exporter": "python",
   "pygments_lexer": "ipython3",
   "version": "3.7.3"
  }
 },
 "nbformat": 4,
 "nbformat_minor": 4
}
